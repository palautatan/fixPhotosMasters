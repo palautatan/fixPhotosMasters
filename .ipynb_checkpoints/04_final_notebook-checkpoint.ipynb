{
 "cells": [
  {
   "cell_type": "markdown",
   "metadata": {},
   "source": [
    "# Seconds to Days Fix Documentation\n",
    "This software was created for photographers on Mac who prefer importing through Photos Library, but want their photos to be formatted and stored in YYYY-MM-DD format as well. Using this software will convert a Masters Photos Library folder into several folders corresponding to the upload date of your collection of photos.\n",
    "\n",
    "### WARNINGS\n",
    "<ol>\n",
    "<li>\n",
    "If files are named the same per date, they will be overwritten.\n",
    "</li>\n",
    "<li>\n",
    "Please check if you have enough disk space for two times the amount of storage needed for your Masters folder before proceeding. I don't know how the program will react.\n",
    "</li>\n",
    "</ol>"
   ]
  },
  {
   "cell_type": "markdown",
   "metadata": {},
   "source": [
    "## Helper Functions\n",
    "The following functions will be used in the main() function."
   ]
  },
  {
   "cell_type": "code",
   "execution_count": 110,
   "metadata": {
    "collapsed": true
   },
   "outputs": [],
   "source": [
    "def listdir_nh(path):\n",
    "    '''\n",
    "    Input: Path of directory (string)\n",
    "    Output: Non-hidden files within given directory (list of strings)\n",
    "    Dependencies: os Library\n",
    "    '''\n",
    "    from os import listdir\n",
    "    files = listdir(path)\n",
    "    parsed = [file for file in files if not file.startswith(\".\")]\n",
    "    return parsed"
   ]
  },
  {
   "cell_type": "code",
   "execution_count": 111,
   "metadata": {
    "collapsed": false
   },
   "outputs": [],
   "source": [
    "def listdirz(path):\n",
    "    '''\n",
    "    Input: path: Path of Photos Library Masters folder, i.e. \"/Users/USER/Desktop/Masters\"\n",
    "    Output: File paths within one level of the Masters folder directory\n",
    "    Dependencies:   Libraries: os\n",
    "                    Functions: listdir_nh()\n",
    "    '''\n",
    "    files = [path+\"/\"+str(x) for x in listdir_nh(path)]\n",
    "    return files"
   ]
  },
  {
   "cell_type": "code",
   "execution_count": null,
   "metadata": {
    "collapsed": true
   },
   "outputs": [],
   "source": [
    "def recursivedirz(path):\n",
    "    '''\n",
    "    Input: path: Path of Photos Library Masters folder, i.e. \"/Users/USER/Desktop/Masters\"\n",
    "    Output: All file paths of files in a Masters folder\n",
    "    Dependencies:   Libraries: os\n",
    "                    Functions: listdir_nh(), listdirz()\n",
    "    '''\n",
    "    years = listdirz(path)\n",
    "    months = [x for x in [listdirz(x) for x in years]]\n",
    "    unlisted_months = [item for sublist in months for item in sublist]\n",
    "    days = [listdirz(x) for x in unlisted_months]\n",
    "    unlisted_days = [item for sublist in days for item in sublist]\n",
    "    final_folders = [listdirz(x) for x in unlisted_days]\n",
    "    unlisted_final_folders = [item for sublist in final_folders for item in sublist]\n",
    "    all_photos = [listdirz(x) for x in unlisted_final_folders]\n",
    "    return([item for sublist in all_photos for item in sublist])"
   ]
  },
  {
   "cell_type": "markdown",
   "metadata": {},
   "source": [
    "## Main Function\n",
    "This will soon work with system arguments for the command line."
   ]
  },
  {
   "cell_type": "code",
   "execution_count": 114,
   "metadata": {
    "collapsed": false
   },
   "outputs": [],
   "source": [
    "# MAIN FUNCTION\n",
    "def main(path, new_location):\n",
    "    '''\n",
    "    Input: \tpath: Path of Photos Library Masters folder, i.e. \"/Users/USER/Desktop/Masters\"\n",
    "                    new_location: Path of desired new location, i.e. \"/Users/USER/Pictures\"\n",
    "    Output: No file output -- reformats Masters folder\n",
    "    Dependencies:   Libraries: os\n",
    "                    Functions: listdir_nh(), listdirz(), recursivedirz()\n",
    "    '''\n",
    "    \n",
    "    # LIBRARY\n",
    "    import os\n",
    "    \n",
    "    # CREATE MASTERS FOLDER COPY\n",
    "    copy = \"\"\n",
    "    print(\"A temporary Masters folder has been successfully created.\")\n",
    "    \n",
    "    # ACQUIRE ALL FILE NAMES IN THE MASTERS FOLDER\n",
    "    all_files = recursivedirz(copy)\n",
    "    folders_created = []\n",
    "    \n",
    "    # FOR EACH NAMED FILE IN MASTERS FOLDER\n",
    "    for this_file in all_files:\n",
    "        # OBTAIN DOWNLOAD DATE\n",
    "        yyyymmdd = this_file.split(\"/\")[-2].split(\"-\")[0]\n",
    "        folder_name = \"-\".join([yyyymmdd[0:4], yyyymmdd[4:6], yyyymmdd[6:8]])\n",
    "        folder_name = new_location+\"/\"+folder_name\n",
    "        \n",
    "        # TRY TO MAKE THE FOLDER\n",
    "        try:\n",
    "            os.makedirs(folder_name)\n",
    "            folders_created.append(folder_name)\n",
    "            print(\"\\nA folder named \"+folder_name+\" was created.\")\n",
    "        except:\n",
    "            pass\n",
    "        # SAVE FILE BY ITS FILENAME UNDER A FOLDER WITH FORMAT YYYY-MM-DD\n",
    "        filename = this_file.split(\"/\")[-1]\n",
    "        os.rename(this_file, folder_name+\"/\"+filename)\n",
    "        print(\"The file \"+filename+\" was placed under the above directory.\")\n",
    "    \n",
    "    # DELETE THE MASTERS FOLDER COPY\n",
    "    # \n",
    "    print(\"The temporary Masters folder has been successfully deleted.\")\n",
    "    \n",
    "    # PRINT SUMMARY\n",
    "    print(\"\\n\"+str(len(folders_created))+\" folders were created under \"+new_location+\".\")"
   ]
  },
  {
   "cell_type": "markdown",
   "metadata": {},
   "source": [
    "## Example\n",
    "<b>DIRECTIONS:</b> An example Masters Photos folder was placed under examples in the Github repository."
   ]
  },
  {
   "cell_type": "code",
   "execution_count": 115,
   "metadata": {
    "collapsed": false,
    "scrolled": true
   },
   "outputs": [
    {
     "name": "stdout",
     "output_type": "stream",
     "text": [
      "\n",
      "A folder named /Users/EDIE/Box Sync/GitThings/fixPhotosMasters/example/1995-03-24 was created.\n",
      "The file a.jpg was placed under the above directory.\n",
      "The file b.jpg was placed under the above directory.\n",
      "\n",
      "A folder named /Users/EDIE/Box Sync/GitThings/fixPhotosMasters/example/2002-03-24 was created.\n",
      "The file a.jpg was placed under the above directory.\n",
      "The file b.jpg was placed under the above directory.\n",
      "The file c.jpg was placed under the above directory.\n",
      "The file d.jpg was placed under the above directory.\n",
      "\n",
      "A folder named /Users/EDIE/Box Sync/GitThings/fixPhotosMasters/example/2007-03-24 was created.\n",
      "The file a.jpg was placed under the above directory.\n",
      "The file IMG_5963.png was placed under the above directory.\n",
      "The file b.jpg was placed under the above directory.\n",
      "The file c.jpg was placed under the above directory.\n",
      "\n",
      "A folder named /Users/EDIE/Box Sync/GitThings/fixPhotosMasters/example/2011-03-24 was created.\n",
      "The file IMG_5963.png was placed under the above directory.\n",
      "\n",
      "4 folders were created under /Users/EDIE/Box Sync/GitThings/fixPhotosMasters/example.\n"
     ]
    }
   ],
   "source": [
    "main(\"/Users/EDIE/Box Sync/GitThings/fixPhotosMasters/example/Masters\",\n",
    "     \"/Users/EDIE/Box Sync/GitThings/fixPhotosMasters/example\")"
   ]
  }
 ],
 "metadata": {
  "kernelspec": {
   "display_name": "Python 2",
   "language": "python",
   "name": "python2"
  },
  "language_info": {
   "codemirror_mode": {
    "name": "ipython",
    "version": 2
   },
   "file_extension": ".py",
   "mimetype": "text/x-python",
   "name": "python",
   "nbconvert_exporter": "python",
   "pygments_lexer": "ipython2",
   "version": "2.7.13"
  }
 },
 "nbformat": 4,
 "nbformat_minor": 2
}
